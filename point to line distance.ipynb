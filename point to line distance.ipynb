{
 "cells": [
  {
   "cell_type": "markdown",
   "metadata": {},
   "source": [
    "## Distance to nearest linestring from a point\n",
    "\n",
    "These are some simple explorations on a constructed example\n",
    "\n",
    "There are two broad methods here\n",
    "\n",
    "1.  Calculate distance from point to nearest point along a bikepath (using shapely's `project`)\n",
    "\n",
    "2. (less promising) convert linestrings to points and then use nearest neighbors."
   ]
  },
  {
   "cell_type": "code",
   "execution_count": 1,
   "metadata": {},
   "outputs": [],
   "source": [
    "%matplotlib inline\n",
    "import matplotlib.pyplot as plt\n",
    "import numpy as np\n",
    "from shapely.geometry import Point, LineString, mapping\n",
    "import geopandas as gpd\n",
    "import pandas as pd"
   ]
  },
  {
   "cell_type": "markdown",
   "metadata": {},
   "source": [
    "#### Make up some paths"
   ]
  },
  {
   "cell_type": "code",
   "execution_count": 2,
   "metadata": {},
   "outputs": [],
   "source": [
    "path1 = LineString([\n",
    "    Point(0, 0),\n",
    "    Point(0, 1),\n",
    "    Point(1, 1),\n",
    "    Point(1, 2),\n",
    "    Point(3, 3),\n",
    "    Point(5, 6),\n",
    "])\n",
    "\n",
    "path2 = LineString([\n",
    "    Point(5, 3),\n",
    "    Point(5, 5),\n",
    "    Point(9, 5),\n",
    "    Point(10, 7),\n",
    "    Point(11, 8),\n",
    "    Point(12, 12),\n",
    "])\n",
    "\n",
    "path3 = LineString([\n",
    "    Point(9, 10),\n",
    "    Point(10, 14),\n",
    "    Point(11, 12),\n",
    "    Point(12, 15),\n",
    "])"
   ]
  },
  {
   "cell_type": "code",
   "execution_count": 3,
   "metadata": {},
   "outputs": [],
   "source": [
    "gdf = gpd.GeoDataFrame([path1, path2, path3], columns=['geometry'])"
   ]
  },
  {
   "cell_type": "code",
   "execution_count": 4,
   "metadata": {},
   "outputs": [],
   "source": [
    "gdf['pathname'] = ['path1', 'path2', 'path3']"
   ]
  },
  {
   "cell_type": "code",
   "execution_count": 5,
   "metadata": {},
   "outputs": [
    {
     "data": {
      "text/html": [
       "<div>\n",
       "<style scoped>\n",
       "    .dataframe tbody tr th:only-of-type {\n",
       "        vertical-align: middle;\n",
       "    }\n",
       "\n",
       "    .dataframe tbody tr th {\n",
       "        vertical-align: top;\n",
       "    }\n",
       "\n",
       "    .dataframe thead th {\n",
       "        text-align: right;\n",
       "    }\n",
       "</style>\n",
       "<table border=\"1\" class=\"dataframe\">\n",
       "  <thead>\n",
       "    <tr style=\"text-align: right;\">\n",
       "      <th></th>\n",
       "      <th>geometry</th>\n",
       "      <th>pathname</th>\n",
       "    </tr>\n",
       "  </thead>\n",
       "  <tbody>\n",
       "    <tr>\n",
       "      <th>0</th>\n",
       "      <td>LINESTRING (0 0, 0 1, 1 1, 1 2, 3 3, 5 6)</td>\n",
       "      <td>path1</td>\n",
       "    </tr>\n",
       "    <tr>\n",
       "      <th>1</th>\n",
       "      <td>LINESTRING (5 3, 5 5, 9 5, 10 7, 11 8, 12 12)</td>\n",
       "      <td>path2</td>\n",
       "    </tr>\n",
       "    <tr>\n",
       "      <th>2</th>\n",
       "      <td>LINESTRING (9 10, 10 14, 11 12, 12 15)</td>\n",
       "      <td>path3</td>\n",
       "    </tr>\n",
       "  </tbody>\n",
       "</table>\n",
       "</div>"
      ],
      "text/plain": [
       "                                        geometry pathname\n",
       "0      LINESTRING (0 0, 0 1, 1 1, 1 2, 3 3, 5 6)    path1\n",
       "1  LINESTRING (5 3, 5 5, 9 5, 10 7, 11 8, 12 12)    path2\n",
       "2         LINESTRING (9 10, 10 14, 11 12, 12 15)    path3"
      ]
     },
     "execution_count": 5,
     "metadata": {},
     "output_type": "execute_result"
    }
   ],
   "source": [
    "gdf"
   ]
  },
  {
   "cell_type": "markdown",
   "metadata": {},
   "source": [
    "Here are the made up paths:"
   ]
  },
  {
   "cell_type": "code",
   "execution_count": 6,
   "metadata": {},
   "outputs": [
    {
     "data": {
      "image/png": "[encoded data removed]",
      "text/plain": [
       "<Figure size 432x288 with 1 Axes>"
      ]
     },
     "metadata": {
      "needs_background": "light"
     },
     "output_type": "display_data"
    }
   ],
   "source": [
    "gdf.plot();"
   ]
  },
  {
   "cell_type": "markdown",
   "metadata": {},
   "source": [
    "Let's limit our search to a buffer around a point"
   ]
  },
  {
   "cell_type": "code",
   "execution_count": 7,
   "metadata": {},
   "outputs": [],
   "source": [
    "p = Point(6,4)"
   ]
  },
  {
   "cell_type": "code",
   "execution_count": 8,
   "metadata": {},
   "outputs": [
    {
     "data": {
      "image/svg+xml": [
       "<svg xmlns=\"http://www.w3.org/2000/svg\" xmlns:xlink=\"http://www.w3.org/1999/xlink\" width=\"100.0\" height=\"100.0\" viewBox=\"0.6 -1.4 10.8 10.8\" preserveAspectRatio=\"xMinYMin meet\"><g transform=\"matrix(1,0,0,-1,0,8.0)\"><path fill-rule=\"evenodd\" fill=\"#66cc99\" stroke=\"#555555\" stroke-width=\"0.21600000000000003\" opacity=\"0.6\" d=\"M 11.0,4.0 L 10.975923633360985,3.5099142983521974 L 10.903926402016154,3.0245483899193597 L 10.784701678661044,2.5485766137276897 L 10.619397662556434,2.086582838174553 L 10.409606321741776,1.643016315870014 L 10.157348061512728,1.2221488349019913 L 9.865052266813688,0.8280335791817754 L 9.535533905932741,0.46446609406726536 L 9.171966420818231,0.13494773318631825 L 8.777851165098015,-0.15734806151272362 L 8.356983684129993,-0.4096063217417729 L 7.913417161825454,-0.6193976625564312 L 7.451423386272318,-0.7847016786610421 L 6.975451610080648,-0.9039264020161513 L 6.490085701647811,-0.9759236333609831 L 6.000000000000008,-1.0 L 5.509914298352205,-0.9759236333609849 L 5.024548389919367,-0.9039264020161539 L 4.548576613727698,-0.7847016786610475 L 4.086582838174561,-0.6193976625564375 L 3.6430163158700215,-0.40960632174178 L 3.2221488349019975,-0.15734806151273162 L 2.8280335791817803,0.13494773318630893 L 2.464466094067269,0.4644660940672556 L 2.1349477331863205,0.8280335791817661 L 1.8426519384872782,1.222148834901982 L 1.5903936782582289,1.643016315870005 L 1.3806023374435688,2.0865828381745444 L 1.2152983213389579,2.5485766137276817 L 1.0960735979838487,3.0245483899193526 L 1.024076366639016,3.5099142983521916 L 1.0,3.999999999999995 L 1.0240763666390151,4.490085701647798 L 1.096073597983847,4.975451610080637 L 1.2152983213389543,5.4514233862723085 L 1.3806023374435652,5.913417161825446 L 1.5903936782582235,6.356983684129986 L 1.8426519384872728,6.77785116509801 L 2.1349477331863147,7.171966420818226 L 2.4644660940672614,7.535533905932738 L 2.8280335791817706,7.8650522668136835 L 3.222148834901985,8.157348061512725 L 3.6430163158700064,8.409606321741773 L 4.086582838174544,8.61939766255643 L 4.548576613727679,8.784701678661042 L 5.024548389919348,8.90392640201615 L 5.509914298352184,8.975923633360983 L 5.999999999999986,9.0 L 6.4900857016477875,8.975923633360985 L 6.975451610080624,8.903926402016156 L 7.451423386272293,8.78470167866105 L 7.913417161825429,8.619397662556441 L 8.356983684129968,8.409606321741785 L 8.77785116509799,8.157348061512739 L 9.171966420818208,7.865052266813701 L 9.535533905932718,7.535533905932757 L 9.865052266813667,7.171966420818251 L 10.157348061512709,6.777851165098037 L 10.409606321741759,6.356983684130017 L 10.61939766255642,5.913417161825481 L 10.784701678661033,5.451423386272346 L 10.903926402016145,4.975451610080679 L 10.975923633360981,4.490085701647843 L 11.0,4.000000000000041 L 11.0,4.0 z\" /></g></svg>"
      ],
      "text/plain": [
       "<shapely.geometry.polygon.Polygon at 0x2166a9f5dd8>"
      ]
     },
     "execution_count": 8,
     "metadata": {},
     "output_type": "execute_result"
    }
   ],
   "source": [
    "r  = 5  #buffer radius\n",
    "B = p.buffer(r)\n",
    "B"
   ]
  },
  {
   "cell_type": "markdown",
   "metadata": {},
   "source": [
    "Plot things on matplotlib to visualize what's going on.\n"
   ]
  },
  {
   "cell_type": "code",
   "execution_count": 9,
   "metadata": {},
   "outputs": [
    {
     "data": {
      "image/png": "[encoded data removed]",
      "text/plain": [
       "<Figure size 432x288 with 1 Axes>"
      ]
     },
     "metadata": {
      "needs_background": "light"
     },
     "output_type": "display_data"
    }
   ],
   "source": [
    "x1,y1 = path1.xy\n",
    "x2,y2 = path2.xy\n",
    "x3,y3 = path3.xy\n",
    "xB,yB = B.exterior.xy\n",
    "\n",
    "plt.plot(xB,yB)\n",
    "plt.plot(x1,y1)\n",
    "plt.plot(x2,y2)\n",
    "plt.plot(x3,y3)\n",
    "plt.scatter(p.x,p.y)\n",
    "ax = plt.gca()\n",
    "ax.set_aspect(\"equal\")\n"
   ]
  },
  {
   "cell_type": "markdown",
   "metadata": {},
   "source": [
    "We can get just the linestrings in the buffer returned as a new dataframe"
   ]
  },
  {
   "cell_type": "code",
   "execution_count": 10,
   "metadata": {},
   "outputs": [
    {
     "data": {
      "text/plain": [
       "0    LINESTRING (2.24894770851008 2.62447385425504,...\n",
       "1    LINESTRING (5 3, 5 5, 9 5, 9.481402426205291 5...\n",
       "2                                                   ()\n",
       "dtype: object"
      ]
     },
     "execution_count": 10,
     "metadata": {},
     "output_type": "execute_result"
    }
   ],
   "source": [
    "gdf.geometry.intersection(p.buffer(4))"
   ]
  },
  {
   "cell_type": "code",
   "execution_count": 11,
   "metadata": {},
   "outputs": [
    {
     "data": {
      "image/png": "[encoded data removed]",
      "text/plain": [
       "<Figure size 432x288 with 1 Axes>"
      ]
     },
     "metadata": {
      "needs_background": "light"
     },
     "output_type": "display_data"
    }
   ],
   "source": [
    "plt.plot(xB,yB)\n",
    "plt.scatter(p.x,p.y)\n",
    "ax=plt.gca()\n",
    "gdf.geometry.intersection(p.buffer(r)).plot(ax=ax);"
   ]
  },
  {
   "cell_type": "markdown",
   "metadata": {},
   "source": [
    "Simple loop to find distances from point to lines in this buffer"
   ]
  },
  {
   "cell_type": "code",
   "execution_count": 12,
   "metadata": {},
   "outputs": [
    {
     "name": "stdout",
     "output_type": "stream",
     "text": [
      "4.34188741492702\n",
      "1.0\n"
     ]
    }
   ],
   "source": [
    "for line in gdf.geometry.intersection(p.buffer(r)):\n",
    "    if not line.is_empty:\n",
    "        print(line.project(p))\n",
    "        "
   ]
  },
  {
   "cell_type": "markdown",
   "metadata": {},
   "source": [
    "This is obviously incomplete (we need code to loop through all the bikepaths) and then return the nearest distance but it would probably use these building blocks."
   ]
  },
  {
   "cell_type": "code",
   "execution_count": null,
   "metadata": {},
   "outputs": [],
   "source": []
  },
  {
   "cell_type": "markdown",
   "metadata": {},
   "source": [
    "## A less promising method\n",
    "\n",
    "Ignore what follows.  I abandoned this method after realizing that a bikepath is not just the vertices that define the line (so previous method better).  But I learned some tricks in my explorations, so I've kept the code in case they ever come in handy."
   ]
  },
  {
   "cell_type": "markdown",
   "metadata": {},
   "source": [
    "### From linestring back to points\n",
    "\n",
    "[This stackexchange answer](https://gis.stackexchange.com/questions/238533/how-do-i-extract-points-from-a-linestring-or-polygon-data-frame-and-make-a-dicti) shows how to convert from a linestring into a list of points lists."
   ]
  },
  {
   "cell_type": "code",
   "execution_count": 13,
   "metadata": {},
   "outputs": [],
   "source": [
    "def linestring_to_points(feature, line):\n",
    "    return np.array(line.coords)\n",
    "\n",
    "gdf['points'] = gdf.apply(lambda line: linestring_to_points(line['pathname'],line['geometry']),axis=1)"
   ]
  },
  {
   "cell_type": "code",
   "execution_count": 14,
   "metadata": {},
   "outputs": [
    {
     "data": {
      "image/png": "[encoded data removed]",
      "text/plain": [
       "<Figure size 432x288 with 1 Axes>"
      ]
     },
     "metadata": {
      "needs_background": "light"
     },
     "output_type": "display_data"
    }
   ],
   "source": [
    "gdf.geometry.intersection(p.buffer(4)).plot();"
   ]
  },
  {
   "cell_type": "code",
   "execution_count": 15,
   "metadata": {},
   "outputs": [
    {
     "data": {
      "image/png": "[encoded data removed]",
      "text/plain": [
       "<Figure size 432x288 with 1 Axes>"
      ]
     },
     "metadata": {
      "needs_background": "light"
     },
     "output_type": "display_data"
    }
   ],
   "source": [
    "gdf.plot();"
   ]
  },
  {
   "cell_type": "markdown",
   "metadata": {},
   "source": [
    "After some further searching I found that I can use numpy concatenate to get all the points into a stacked numpy array."
   ]
  },
  {
   "cell_type": "code",
   "execution_count": 16,
   "metadata": {},
   "outputs": [
    {
     "data": {
      "text/plain": [
       "array([[ 0.,  0.],\n",
       "       [ 0.,  1.],\n",
       "       [ 1.,  1.],\n",
       "       [ 1.,  2.],\n",
       "       [ 3.,  3.],\n",
       "       [ 5.,  6.],\n",
       "       [ 5.,  3.],\n",
       "       [ 5.,  5.],\n",
       "       [ 9.,  5.],\n",
       "       [10.,  7.],\n",
       "       [11.,  8.],\n",
       "       [12., 12.],\n",
       "       [ 9., 10.],\n",
       "       [10., 14.],\n",
       "       [11., 12.],\n",
       "       [12., 15.]])"
      ]
     },
     "execution_count": 16,
     "metadata": {},
     "output_type": "execute_result"
    }
   ],
   "source": [
    "np.concatenate(gdf.points)"
   ]
  },
  {
   "cell_type": "markdown",
   "metadata": {},
   "source": [
    "We can turn these back into shapely points"
   ]
  },
  {
   "cell_type": "code",
   "execution_count": 17,
   "metadata": {},
   "outputs": [
    {
     "data": {
      "text/plain": [
       "0       POINT (0 0)\n",
       "1       POINT (0 1)\n",
       "2       POINT (1 1)\n",
       "3       POINT (1 2)\n",
       "4       POINT (3 3)\n",
       "5       POINT (5 6)\n",
       "6       POINT (5 3)\n",
       "7       POINT (5 5)\n",
       "8       POINT (9 5)\n",
       "9      POINT (10 7)\n",
       "10     POINT (11 8)\n",
       "11    POINT (12 12)\n",
       "12     POINT (9 10)\n",
       "13    POINT (10 14)\n",
       "14    POINT (11 12)\n",
       "15    POINT (12 15)\n",
       "dtype: object"
      ]
     },
     "execution_count": 17,
     "metadata": {},
     "output_type": "execute_result"
    }
   ],
   "source": [
    "gpd.GeoSeries(map(Point,np.concatenate(gdf.points)))"
   ]
  },
  {
   "cell_type": "markdown",
   "metadata": {},
   "source": [
    "We will want to create a new dataframe with these points but we need to label them correctly with their corresponding bike path name.  The numpy `repeat` function allows us to repeat the line name the correct number of times. "
   ]
  },
  {
   "cell_type": "code",
   "execution_count": 18,
   "metadata": {},
   "outputs": [
    {
     "data": {
      "text/plain": [
       "array(['path1', 'path1', 'path1', 'path1', 'path1', 'path1', 'path2',\n",
       "       'path2', 'path2', 'path2', 'path2', 'path2', 'path3', 'path3',\n",
       "       'path3', 'path3'], dtype=object)"
      ]
     },
     "execution_count": 18,
     "metadata": {},
     "output_type": "execute_result"
    }
   ],
   "source": [
    "np.repeat(gdf.pathname.values, gdf.points.apply(len))"
   ]
  },
  {
   "cell_type": "markdown",
   "metadata": {},
   "source": [
    "So finally, let's create a dataframe that lists points and associated bike paths."
   ]
  },
  {
   "cell_type": "code",
   "execution_count": 19,
   "metadata": {},
   "outputs": [
    {
     "data": {
      "text/html": [
       "<div>\n",
       "<style scoped>\n",
       "    .dataframe tbody tr th:only-of-type {\n",
       "        vertical-align: middle;\n",
       "    }\n",
       "\n",
       "    .dataframe tbody tr th {\n",
       "        vertical-align: top;\n",
       "    }\n",
       "\n",
       "    .dataframe thead th {\n",
       "        text-align: right;\n",
       "    }\n",
       "</style>\n",
       "<table border=\"1\" class=\"dataframe\">\n",
       "  <thead>\n",
       "    <tr style=\"text-align: right;\">\n",
       "      <th></th>\n",
       "      <th>path</th>\n",
       "      <th>pt</th>\n",
       "    </tr>\n",
       "  </thead>\n",
       "  <tbody>\n",
       "    <tr>\n",
       "      <th>0</th>\n",
       "      <td>path1</td>\n",
       "      <td>POINT (0 0)</td>\n",
       "    </tr>\n",
       "    <tr>\n",
       "      <th>1</th>\n",
       "      <td>path1</td>\n",
       "      <td>POINT (0 1)</td>\n",
       "    </tr>\n",
       "    <tr>\n",
       "      <th>2</th>\n",
       "      <td>path1</td>\n",
       "      <td>POINT (1 1)</td>\n",
       "    </tr>\n",
       "    <tr>\n",
       "      <th>3</th>\n",
       "      <td>path1</td>\n",
       "      <td>POINT (1 2)</td>\n",
       "    </tr>\n",
       "    <tr>\n",
       "      <th>4</th>\n",
       "      <td>path1</td>\n",
       "      <td>POINT (3 3)</td>\n",
       "    </tr>\n",
       "    <tr>\n",
       "      <th>5</th>\n",
       "      <td>path1</td>\n",
       "      <td>POINT (5 6)</td>\n",
       "    </tr>\n",
       "    <tr>\n",
       "      <th>6</th>\n",
       "      <td>path2</td>\n",
       "      <td>POINT (5 3)</td>\n",
       "    </tr>\n",
       "    <tr>\n",
       "      <th>7</th>\n",
       "      <td>path2</td>\n",
       "      <td>POINT (5 5)</td>\n",
       "    </tr>\n",
       "    <tr>\n",
       "      <th>8</th>\n",
       "      <td>path2</td>\n",
       "      <td>POINT (9 5)</td>\n",
       "    </tr>\n",
       "    <tr>\n",
       "      <th>9</th>\n",
       "      <td>path2</td>\n",
       "      <td>POINT (10 7)</td>\n",
       "    </tr>\n",
       "    <tr>\n",
       "      <th>10</th>\n",
       "      <td>path2</td>\n",
       "      <td>POINT (11 8)</td>\n",
       "    </tr>\n",
       "    <tr>\n",
       "      <th>11</th>\n",
       "      <td>path2</td>\n",
       "      <td>POINT (12 12)</td>\n",
       "    </tr>\n",
       "    <tr>\n",
       "      <th>12</th>\n",
       "      <td>path3</td>\n",
       "      <td>POINT (9 10)</td>\n",
       "    </tr>\n",
       "    <tr>\n",
       "      <th>13</th>\n",
       "      <td>path3</td>\n",
       "      <td>POINT (10 14)</td>\n",
       "    </tr>\n",
       "    <tr>\n",
       "      <th>14</th>\n",
       "      <td>path3</td>\n",
       "      <td>POINT (11 12)</td>\n",
       "    </tr>\n",
       "    <tr>\n",
       "      <th>15</th>\n",
       "      <td>path3</td>\n",
       "      <td>POINT (12 15)</td>\n",
       "    </tr>\n",
       "  </tbody>\n",
       "</table>\n",
       "</div>"
      ],
      "text/plain": [
       "     path             pt\n",
       "0   path1    POINT (0 0)\n",
       "1   path1    POINT (0 1)\n",
       "2   path1    POINT (1 1)\n",
       "3   path1    POINT (1 2)\n",
       "4   path1    POINT (3 3)\n",
       "5   path1    POINT (5 6)\n",
       "6   path2    POINT (5 3)\n",
       "7   path2    POINT (5 5)\n",
       "8   path2    POINT (9 5)\n",
       "9   path2   POINT (10 7)\n",
       "10  path2   POINT (11 8)\n",
       "11  path2  POINT (12 12)\n",
       "12  path3   POINT (9 10)\n",
       "13  path3  POINT (10 14)\n",
       "14  path3  POINT (11 12)\n",
       "15  path3  POINT (12 15)"
      ]
     },
     "execution_count": 19,
     "metadata": {},
     "output_type": "execute_result"
    }
   ],
   "source": [
    "pathpts = pd.DataFrame({ 'path': np.repeat(gdf.pathname.values, gdf.points.apply(len)),\n",
    "                      'pt': gpd.GeoSeries(map(Point,np.concatenate(gdf.points)))\n",
    "                   }  )\n",
    "pathpts"
   ]
  },
  {
   "cell_type": "code",
   "execution_count": null,
   "metadata": {},
   "outputs": [],
   "source": []
  }
 ],
 "metadata": {
  "kernelspec": {
   "display_name": "Python 3",
   "language": "python",
   "name": "python3"
  },
  "language_info": {
   "codemirror_mode": {
    "name": "ipython",
    "version": 3
   },
   "file_extension": ".py",
   "mimetype": "text/x-python",
   "name": "python",
   "nbconvert_exporter": "python",
   "pygments_lexer": "ipython3",
   "version": "3.7.3"
  }
 },
 "nbformat": 4,
 "nbformat_minor": 2
}
