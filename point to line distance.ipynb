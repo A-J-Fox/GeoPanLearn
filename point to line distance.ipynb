{
 "cells": [
  {
   "cell_type": "markdown",
   "metadata": {},
   "source": [
    "## Distance to nearest linestring from a point\n",
    "\n",
    "These are some simple explorations on a constructed example\n",
    "\n",
    "There are two broad methods here\n",
    "\n",
    "1.  Calculate distance from point to nearest point along a bikepath (using shapely's `project`)\n",
    "\n",
    "2. (less promising) convert linestrings to points and then use nearest neighbors."
   ]
  },
  {
   "cell_type": "code",
   "execution_count": 1,
   "metadata": {},
   "outputs": [],
   "source": [
    "%matplotlib inline\n",
    "import matplotlib.pyplot as plt\n",
    "import numpy as np\n",
    "from shapely.geometry import Point, LineString, mapping\n",
    "from shapely.ops import nearest_points\n",
    "import geopandas as gpd\n",
    "import pandas as pd"
   ]
  },
  {
   "cell_type": "markdown",
   "metadata": {},
   "source": [
    "#### Make up some paths"
   ]
  },
  {
   "cell_type": "code",
   "execution_count": 2,
   "metadata": {},
   "outputs": [],
   "source": [
    "path0 = LineString([\n",
    "    Point(0, 0),\n",
    "    Point(0, 1),\n",
    "    Point(1, 1),\n",
    "    Point(1, 2),\n",
    "    Point(3, 3),\n",
    "    Point(5, 6),\n",
    "])\n",
    "\n",
    "path1 = LineString([\n",
    "    Point(5, 3),\n",
    "    Point(5, 5),\n",
    "    Point(9, 5),\n",
    "    Point(10, 7),\n",
    "    Point(11, 8),\n",
    "    Point(12, 12),\n",
    "])\n",
    "\n",
    "path2 = LineString([\n",
    "    Point(9, 10),\n",
    "    Point(10, 14),\n",
    "    Point(11, 12),\n",
    "    Point(12, 15),\n",
    "])"
   ]
  },
  {
   "cell_type": "code",
   "execution_count": 3,
   "metadata": {},
   "outputs": [],
   "source": [
    "gdf = gpd.GeoDataFrame([path0, path1, path2], columns=['geometry'])"
   ]
  },
  {
   "cell_type": "code",
   "execution_count": 4,
   "metadata": {},
   "outputs": [],
   "source": [
    "gdf['pathname'] = ['path0', 'path1', 'path2']"
   ]
  },
  {
   "cell_type": "code",
   "execution_count": 5,
   "metadata": {},
   "outputs": [
    {
     "data": {
      "text/html": [
       "<div>\n",
       "<style scoped>\n",
       "    .dataframe tbody tr th:only-of-type {\n",
       "        vertical-align: middle;\n",
       "    }\n",
       "\n",
       "    .dataframe tbody tr th {\n",
       "        vertical-align: top;\n",
       "    }\n",
       "\n",
       "    .dataframe thead th {\n",
       "        text-align: right;\n",
       "    }\n",
       "</style>\n",
       "<table border=\"1\" class=\"dataframe\">\n",
       "  <thead>\n",
       "    <tr style=\"text-align: right;\">\n",
       "      <th></th>\n",
       "      <th>geometry</th>\n",
       "      <th>pathname</th>\n",
       "    </tr>\n",
       "  </thead>\n",
       "  <tbody>\n",
       "    <tr>\n",
       "      <th>0</th>\n",
       "      <td>LINESTRING (0 0, 0 1, 1 1, 1 2, 3 3, 5 6)</td>\n",
       "      <td>path0</td>\n",
       "    </tr>\n",
       "    <tr>\n",
       "      <th>1</th>\n",
       "      <td>LINESTRING (5 3, 5 5, 9 5, 10 7, 11 8, 12 12)</td>\n",
       "      <td>path1</td>\n",
       "    </tr>\n",
       "    <tr>\n",
       "      <th>2</th>\n",
       "      <td>LINESTRING (9 10, 10 14, 11 12, 12 15)</td>\n",
       "      <td>path2</td>\n",
       "    </tr>\n",
       "  </tbody>\n",
       "</table>\n",
       "</div>"
      ],
      "text/plain": [
       "                                        geometry pathname\n",
       "0      LINESTRING (0 0, 0 1, 1 1, 1 2, 3 3, 5 6)    path0\n",
       "1  LINESTRING (5 3, 5 5, 9 5, 10 7, 11 8, 12 12)    path1\n",
       "2         LINESTRING (9 10, 10 14, 11 12, 12 15)    path2"
      ]
     },
     "execution_count": 5,
     "metadata": {},
     "output_type": "execute_result"
    }
   ],
   "source": [
    "gdf"
   ]
  },
  {
   "cell_type": "markdown",
   "metadata": {},
   "source": [
    "Here are the made up paths:"
   ]
  },
  {
   "cell_type": "code",
   "execution_count": 6,
   "metadata": {},
   "outputs": [
    {
     "data": {
      "image/png": "[encoded data removed]",
      "text/plain": [
       "<Figure size 432x288 with 1 Axes>"
      ]
     },
     "metadata": {
      "needs_background": "light"
     },
     "output_type": "display_data"
    }
   ],
   "source": [
    "gdf.plot();"
   ]
  },
  {
   "cell_type": "markdown",
   "metadata": {},
   "source": [
    "Let's limit our search to a buffer around a point"
   ]
  },
  {
   "cell_type": "code",
   "execution_count": 7,
   "metadata": {},
   "outputs": [],
   "source": [
    "p = Point(5,10)"
   ]
  },
  {
   "cell_type": "code",
   "execution_count": 8,
   "metadata": {},
   "outputs": [
    {
     "data": {
      "image/svg+xml": [
       "<svg xmlns=\"http://www.w3.org/2000/svg\" xmlns:xlink=\"http://www.w3.org/1999/xlink\" width=\"100.0\" height=\"100.0\" viewBox=\"-7.96 -2.96 25.92 25.92\" preserveAspectRatio=\"xMinYMin meet\"><g transform=\"matrix(1,0,0,-1,0,20.0)\"><path fill-rule=\"evenodd\" fill=\"#66cc99\" stroke=\"#555555\" stroke-width=\"0.5184000000000001\" opacity=\"0.6\" d=\"M 17.0,10.0 L 16.942216720066362,8.823794316045273 L 16.769423364838765,7.658916135806463 L 16.483284028786507,6.5165838729464545 L 16.086554390135444,5.407798811618927 L 15.583055172180263,4.343239158088034 L 14.977635347630546,3.333157203764779 L 14.27612544035285,2.3872805900362604 L 13.485281374238578,1.5147186257614376 L 12.612719409963754,0.7238745596471645 L 11.666842796235237,0.02236465236946472 L 10.656760841911982,-0.5830551721802539 L 9.59220118838109,-1.0865543901354364 L 8.483416127053562,-1.4832840287865015 L 7.341083864193555,-1.7694233648387616 L 6.176205683954745,-1.9422167200663605 L 5.0000000000000195,-2.0 L 3.8237943160452934,-1.942216720066364 L 2.658916135806482,-1.7694233648387687 L 1.516583872946474,-1.4832840287865139 L 0.40779881161894593,-1.0865543901354506 L -0.6567608419119484,-0.5830551721802735 L -1.6668427962352066,0.022364652369443405 L -2.612719409963727,0.7238745596471414 L -3.4852813742385553,1.5147186257614127 L -4.27612544035283,2.387280590036238 L -4.977635347630532,3.333157203764756 L -5.583055172180252,4.343239158088012 L -6.086554390135435,5.407798811618907 L -6.4832840287865015,6.516583872946436 L -6.769423364838762,7.658916135806447 L -6.942216720066362,8.823794316045259 L -7.0,9.999999999999988 L -6.942216720066362,11.176205683954716 L -6.769423364838769,12.34108386419353 L -6.483284028786509,13.483416127053541 L -6.0865543901354435,14.592201188381072 L -5.583055172180263,15.656760841911968 L -4.977635347630546,16.666842796235223 L -4.276125440352846,17.612719409963745 L -3.4852813742385713,18.485281374238568 L -2.612719409963751,19.27612544035284 L -1.666842796235235,19.97763534763054 L -0.6567608419119839,20.583055172180252 L 0.40779881161890597,21.086554390135433 L 1.5165838729464305,21.4832840287865 L 2.658916135806435,21.769423364838758 L 3.823794316045243,21.94221672006636 L 4.999999999999966,22.0 L 6.176205683954689,21.942216720066366 L 7.3410838641934975,21.769423364838772 L 8.483416127053504,21.48328402878652 L 9.592201188381031,21.08655439013546 L 10.656760841911924,20.583055172180288 L 11.666842796235178,19.977635347630574 L 12.612719409963699,19.27612544035288 L 13.485281374238523,18.485281374238618 L 14.276125440352798,17.612719409963802 L 14.977635347630502,16.666842796235287 L 15.583055172180224,15.65676084191204 L 16.086554390135408,14.592201188381154 L 16.48328402878648,13.483416127053632 L 16.769423364838747,12.341083864193628 L 16.942216720066355,11.176205683954821 L 17.0,10.0000000000001 L 17.0,10.0 z\" /></g></svg>"
      ],
      "text/plain": [
       "<shapely.geometry.polygon.Polygon at 0x252e5aed7b8>"
      ]
     },
     "execution_count": 8,
     "metadata": {},
     "output_type": "execute_result"
    }
   ],
   "source": [
    "r  = 12 #buffer radius\n",
    "B = p.buffer(r)\n",
    "B"
   ]
  },
  {
   "cell_type": "markdown",
   "metadata": {},
   "source": [
    "We can find a closest point on each path like this"
   ]
  },
  {
   "cell_type": "code",
   "execution_count": 10,
   "metadata": {},
   "outputs": [],
   "source": [
    "C0 = nearest_points(path0, p)[0]\n",
    "C1 = nearest_points(path1, p)[0]\n",
    "C2 = nearest_points(path2, p)[0]"
   ]
  },
  {
   "cell_type": "code",
   "execution_count": 12,
   "metadata": {},
   "outputs": [
    {
     "name": "stdout",
     "output_type": "stream",
     "text": [
      "POINT (5 10) POINT (5 6) POINT (5 5) POINT (9 10)\n"
     ]
    }
   ],
   "source": [
    "print(p, C0, C1, C2)"
   ]
  },
  {
   "cell_type": "markdown",
   "metadata": {},
   "source": [
    "Note this is equivalent to the more wordy method:"
   ]
  },
  {
   "cell_type": "code",
   "execution_count": 14,
   "metadata": {},
   "outputs": [
    {
     "name": "stdout",
     "output_type": "stream",
     "text": [
      "POINT (5 6)\n"
     ]
    }
   ],
   "source": [
    "D = path0.interpolate(path0.project(p)) \n",
    "print(D)"
   ]
  },
  {
   "cell_type": "markdown",
   "metadata": {},
   "source": [
    "Let's plot things on matplotlib to visualize what's going on."
   ]
  },
  {
   "cell_type": "code",
   "execution_count": 15,
   "metadata": {},
   "outputs": [
    {
     "data": {
      "image/png": "[encoded data removed]",
      "text/plain": [
       "<Figure size 432x288 with 1 Axes>"
      ]
     },
     "metadata": {
      "needs_background": "light"
     },
     "output_type": "display_data"
    }
   ],
   "source": [
    "x0,y0 = path0.xy\n",
    "x1,y1 = path1.xy\n",
    "x2,y2 = path2.xy\n",
    "xB,yB = B.exterior.xy\n",
    "\n",
    "plt.plot(xB,yB)\n",
    "plt.plot(x0,y0)\n",
    "plt.plot(x1,y1)\n",
    "plt.plot(x2,y2)\n",
    "plt.scatter(p.x,p.y, color=\"b\")  # point is blue\n",
    "\n",
    "plt.scatter(C0.x,C0.y, marker=\"s\")  # plot closest point on each path\n",
    "plt.scatter(C1.x,C1.y, marker=\"s\")\n",
    "plt.scatter(C2.x,C2.y, marker=\"s\")\n",
    "\n",
    "plt.grid()\n",
    "ax = plt.gca()\n",
    "ax.set_aspect(\"equal\")\n"
   ]
  },
  {
   "cell_type": "markdown",
   "metadata": {},
   "source": [
    "Let us just search over linestrings that fall in the buffer (returned as a new dataframe)."
   ]
  },
  {
   "cell_type": "code",
   "execution_count": 16,
   "metadata": {},
   "outputs": [
    {
     "data": {
      "text/plain": [
       "0        LINESTRING (0 0, 0 1, 1 1, 1 2, 3 3, 5 6)\n",
       "1    LINESTRING (5 3, 5 5, 9 5, 10 7, 11 8, 12 12)\n",
       "2           LINESTRING (9 10, 10 14, 11 12, 12 15)\n",
       "dtype: object"
      ]
     },
     "execution_count": 16,
     "metadata": {},
     "output_type": "execute_result"
    }
   ],
   "source": [
    "gdf.geometry.intersection(p.buffer(r))"
   ]
  },
  {
   "cell_type": "markdown",
   "metadata": {},
   "source": [
    "Simple loop to find distances from point to lines in this buffer"
   ]
  },
  {
   "cell_type": "code",
   "execution_count": 17,
   "metadata": {},
   "outputs": [
    {
     "name": "stdout",
     "output_type": "stream",
     "text": [
      "8.84161925296378\n",
      "2.0\n",
      "0.0\n"
     ]
    }
   ],
   "source": [
    "for line in gdf.geometry.intersection(p.buffer(r)):\n",
    "    if not line.is_empty:\n",
    "        print(line.project(p))"
   ]
  },
  {
   "cell_type": "markdown",
   "metadata": {},
   "source": [
    "I'm a bit puzzled as to what these distances represent.  They do not seem to be Euclidean distances. "
   ]
  },
  {
   "cell_type": "markdown",
   "metadata": {},
   "source": [
    "This is obviously incomplete (we need code to loop through all the bikepaths) and then return the nearest distance but it would probably use these building blocks."
   ]
  },
  {
   "cell_type": "markdown",
   "metadata": {},
   "source": [
    "See Jeremy's notebook https://github.com/jeremysze/GIS_exploration/blob/master/code/snapping_points_to_line.ipynb\n",
    "on using the above for a 'snap to grid' function."
   ]
  },
  {
   "cell_type": "code",
   "execution_count": null,
   "metadata": {},
   "outputs": [],
   "source": []
  },
  {
   "cell_type": "markdown",
   "metadata": {},
   "source": [
    "## Elements of an abandoned method\n",
    "\n",
    "Ignore what follows.  I abandoned this method after realizing that a bikepath is not just the vertices that define the line (so previous method better).  But I learned some tricks in my explorations, so I've kept the code in case they ever come in handy."
   ]
  },
  {
   "cell_type": "markdown",
   "metadata": {},
   "source": [
    "### From linestring back to points\n",
    "\n",
    "[This stackexchange answer](https://gis.stackexchange.com/questions/238533/how-do-i-extract-points-from-a-linestring-or-polygon-data-frame-and-make-a-dicti) shows how to convert from a linestring into a list of points lists."
   ]
  },
  {
   "cell_type": "code",
   "execution_count": 15,
   "metadata": {},
   "outputs": [],
   "source": [
    "def linestring_to_points(feature, line):\n",
    "    return np.array(line.coords)\n",
    "\n",
    "gdf['points'] = gdf.apply(lambda line: linestring_to_points(line['pathname'],line['geometry']),axis=1)"
   ]
  },
  {
   "cell_type": "code",
   "execution_count": 16,
   "metadata": {},
   "outputs": [
    {
     "data": {
      "image/png": "[encoded data removed]",
      "text/plain": [
       "<Figure size 432x288 with 1 Axes>"
      ]
     },
     "metadata": {
      "needs_background": "light"
     },
     "output_type": "display_data"
    }
   ],
   "source": [
    "gdf.geometry.intersection(p.buffer(4)).plot();"
   ]
  },
  {
   "cell_type": "code",
   "execution_count": 17,
   "metadata": {},
   "outputs": [
    {
     "data": {
      "image/png": "[encoded data removed]",
      "text/plain": [
       "<Figure size 432x288 with 1 Axes>"
      ]
     },
     "metadata": {
      "needs_background": "light"
     },
     "output_type": "display_data"
    }
   ],
   "source": [
    "gdf.plot();"
   ]
  },
  {
   "cell_type": "markdown",
   "metadata": {},
   "source": [
    "After some further searching I found that I can use numpy concatenate to get all the points into a stacked numpy array."
   ]
  },
  {
   "cell_type": "code",
   "execution_count": 18,
   "metadata": {},
   "outputs": [
    {
     "data": {
      "text/plain": [
       "array([[ 0.,  0.],\n",
       "       [ 0.,  1.],\n",
       "       [ 1.,  1.],\n",
       "       [ 1.,  2.],\n",
       "       [ 3.,  3.],\n",
       "       [ 5.,  6.],\n",
       "       [ 5.,  3.],\n",
       "       [ 5.,  5.],\n",
       "       [ 9.,  5.],\n",
       "       [10.,  7.],\n",
       "       [11.,  8.],\n",
       "       [12., 12.],\n",
       "       [ 9., 10.],\n",
       "       [10., 14.],\n",
       "       [11., 12.],\n",
       "       [12., 15.]])"
      ]
     },
     "execution_count": 18,
     "metadata": {},
     "output_type": "execute_result"
    }
   ],
   "source": [
    "np.concatenate(gdf.points)"
   ]
  },
  {
   "cell_type": "markdown",
   "metadata": {},
   "source": [
    "We can turn these back into shapely points"
   ]
  },
  {
   "cell_type": "code",
   "execution_count": 19,
   "metadata": {},
   "outputs": [
    {
     "data": {
      "text/plain": [
       "0       POINT (0 0)\n",
       "1       POINT (0 1)\n",
       "2       POINT (1 1)\n",
       "3       POINT (1 2)\n",
       "4       POINT (3 3)\n",
       "5       POINT (5 6)\n",
       "6       POINT (5 3)\n",
       "7       POINT (5 5)\n",
       "8       POINT (9 5)\n",
       "9      POINT (10 7)\n",
       "10     POINT (11 8)\n",
       "11    POINT (12 12)\n",
       "12     POINT (9 10)\n",
       "13    POINT (10 14)\n",
       "14    POINT (11 12)\n",
       "15    POINT (12 15)\n",
       "dtype: object"
      ]
     },
     "execution_count": 19,
     "metadata": {},
     "output_type": "execute_result"
    }
   ],
   "source": [
    "gpd.GeoSeries(map(Point,np.concatenate(gdf.points)))"
   ]
  },
  {
   "cell_type": "markdown",
   "metadata": {},
   "source": [
    "We will want to create a new dataframe with these points but we need to label them correctly with their corresponding bike path name.  The numpy `repeat` function allows us to repeat the line name the correct number of times. "
   ]
  },
  {
   "cell_type": "code",
   "execution_count": 20,
   "metadata": {},
   "outputs": [
    {
     "data": {
      "text/plain": [
       "array(['path1', 'path1', 'path1', 'path1', 'path1', 'path1', 'path2',\n",
       "       'path2', 'path2', 'path2', 'path2', 'path2', 'path3', 'path3',\n",
       "       'path3', 'path3'], dtype=object)"
      ]
     },
     "execution_count": 20,
     "metadata": {},
     "output_type": "execute_result"
    }
   ],
   "source": [
    "np.repeat(gdf.pathname.values, gdf.points.apply(len))"
   ]
  },
  {
   "cell_type": "markdown",
   "metadata": {},
   "source": [
    "So finally, let's create a dataframe that lists points and associated bike paths."
   ]
  },
  {
   "cell_type": "code",
   "execution_count": 21,
   "metadata": {},
   "outputs": [
    {
     "data": {
      "text/html": [
       "<div>\n",
       "<style scoped>\n",
       "    .dataframe tbody tr th:only-of-type {\n",
       "        vertical-align: middle;\n",
       "    }\n",
       "\n",
       "    .dataframe tbody tr th {\n",
       "        vertical-align: top;\n",
       "    }\n",
       "\n",
       "    .dataframe thead th {\n",
       "        text-align: right;\n",
       "    }\n",
       "</style>\n",
       "<table border=\"1\" class=\"dataframe\">\n",
       "  <thead>\n",
       "    <tr style=\"text-align: right;\">\n",
       "      <th></th>\n",
       "      <th>path</th>\n",
       "      <th>pt</th>\n",
       "    </tr>\n",
       "  </thead>\n",
       "  <tbody>\n",
       "    <tr>\n",
       "      <th>0</th>\n",
       "      <td>path1</td>\n",
       "      <td>POINT (0 0)</td>\n",
       "    </tr>\n",
       "    <tr>\n",
       "      <th>1</th>\n",
       "      <td>path1</td>\n",
       "      <td>POINT (0 1)</td>\n",
       "    </tr>\n",
       "    <tr>\n",
       "      <th>2</th>\n",
       "      <td>path1</td>\n",
       "      <td>POINT (1 1)</td>\n",
       "    </tr>\n",
       "    <tr>\n",
       "      <th>3</th>\n",
       "      <td>path1</td>\n",
       "      <td>POINT (1 2)</td>\n",
       "    </tr>\n",
       "    <tr>\n",
       "      <th>4</th>\n",
       "      <td>path1</td>\n",
       "      <td>POINT (3 3)</td>\n",
       "    </tr>\n",
       "    <tr>\n",
       "      <th>5</th>\n",
       "      <td>path1</td>\n",
       "      <td>POINT (5 6)</td>\n",
       "    </tr>\n",
       "    <tr>\n",
       "      <th>6</th>\n",
       "      <td>path2</td>\n",
       "      <td>POINT (5 3)</td>\n",
       "    </tr>\n",
       "    <tr>\n",
       "      <th>7</th>\n",
       "      <td>path2</td>\n",
       "      <td>POINT (5 5)</td>\n",
       "    </tr>\n",
       "    <tr>\n",
       "      <th>8</th>\n",
       "      <td>path2</td>\n",
       "      <td>POINT (9 5)</td>\n",
       "    </tr>\n",
       "    <tr>\n",
       "      <th>9</th>\n",
       "      <td>path2</td>\n",
       "      <td>POINT (10 7)</td>\n",
       "    </tr>\n",
       "    <tr>\n",
       "      <th>10</th>\n",
       "      <td>path2</td>\n",
       "      <td>POINT (11 8)</td>\n",
       "    </tr>\n",
       "    <tr>\n",
       "      <th>11</th>\n",
       "      <td>path2</td>\n",
       "      <td>POINT (12 12)</td>\n",
       "    </tr>\n",
       "    <tr>\n",
       "      <th>12</th>\n",
       "      <td>path3</td>\n",
       "      <td>POINT (9 10)</td>\n",
       "    </tr>\n",
       "    <tr>\n",
       "      <th>13</th>\n",
       "      <td>path3</td>\n",
       "      <td>POINT (10 14)</td>\n",
       "    </tr>\n",
       "    <tr>\n",
       "      <th>14</th>\n",
       "      <td>path3</td>\n",
       "      <td>POINT (11 12)</td>\n",
       "    </tr>\n",
       "    <tr>\n",
       "      <th>15</th>\n",
       "      <td>path3</td>\n",
       "      <td>POINT (12 15)</td>\n",
       "    </tr>\n",
       "  </tbody>\n",
       "</table>\n",
       "</div>"
      ],
      "text/plain": [
       "     path             pt\n",
       "0   path1    POINT (0 0)\n",
       "1   path1    POINT (0 1)\n",
       "2   path1    POINT (1 1)\n",
       "3   path1    POINT (1 2)\n",
       "4   path1    POINT (3 3)\n",
       "5   path1    POINT (5 6)\n",
       "6   path2    POINT (5 3)\n",
       "7   path2    POINT (5 5)\n",
       "8   path2    POINT (9 5)\n",
       "9   path2   POINT (10 7)\n",
       "10  path2   POINT (11 8)\n",
       "11  path2  POINT (12 12)\n",
       "12  path3   POINT (9 10)\n",
       "13  path3  POINT (10 14)\n",
       "14  path3  POINT (11 12)\n",
       "15  path3  POINT (12 15)"
      ]
     },
     "execution_count": 21,
     "metadata": {},
     "output_type": "execute_result"
    }
   ],
   "source": [
    "pathpts = pd.DataFrame({ 'path': np.repeat(gdf.pathname.values, gdf.points.apply(len)),\n",
    "                      'pt': gpd.GeoSeries(map(Point,np.concatenate(gdf.points)))\n",
    "                   }  )\n",
    "pathpts"
   ]
  },
  {
   "cell_type": "code",
   "execution_count": null,
   "metadata": {},
   "outputs": [],
   "source": []
  },
  {
   "cell_type": "code",
   "execution_count": null,
   "metadata": {},
   "outputs": [],
   "source": []
  },
  {
   "cell_type": "code",
   "execution_count": null,
   "metadata": {},
   "outputs": [],
   "source": []
  }
 ],
 "metadata": {
  "kernelspec": {
   "display_name": "Python 3",
   "language": "python",
   "name": "python3"
  },
  "language_info": {
   "codemirror_mode": {
    "name": "ipython",
    "version": 3
   },
   "file_extension": ".py",
   "mimetype": "text/x-python",
   "name": "python",
   "nbconvert_exporter": "python",
   "pygments_lexer": "ipython3",
   "version": "3.7.3"
  }
 },
 "nbformat": 4,
 "nbformat_minor": 2
}
