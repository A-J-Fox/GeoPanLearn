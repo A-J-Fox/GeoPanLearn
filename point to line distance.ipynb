{
 "cells": [
  {
   "cell_type": "markdown",
   "metadata": {},
   "source": [
    "## Distance to nearest linestring from a point\n",
    "\n",
    "These are some simple explorations on a constructed example\n",
    "\n",
    "There are two broad methods here\n",
    "\n",
    "1.  Calculate distance from point to nearest point along a bikepath (using shapely's `project`)\n",
    "\n",
    "2. (less promising) convert linestrings to points and then use nearest neighbors."
   ]
  },
  {
   "cell_type": "code",
   "execution_count": 1,
   "metadata": {},
   "outputs": [],
   "source": [
    "%matplotlib inline\n",
    "import matplotlib.pyplot as plt\n",
    "from shapely.geometry import Point, LineString, mapping\n",
    "import geopandas as gpd\n",
    "import pandas as pd"
   ]
  },
  {
   "cell_type": "markdown",
   "metadata": {},
   "source": [
    "#### Make up some paths"
   ]
  },
  {
   "cell_type": "code",
   "execution_count": 2,
   "metadata": {},
   "outputs": [],
   "source": [
    "path1 = LineString([\n",
    "    Point(0, 0),\n",
    "    Point(0, 1),\n",
    "    Point(1, 1),\n",
    "    Point(1, 2),\n",
    "    Point(3, 3),\n",
    "    Point(5, 6),\n",
    "])\n",
    "\n",
    "path2 = LineString([\n",
    "    Point(5, 3),\n",
    "    Point(5, 5),\n",
    "    Point(9, 5),\n",
    "    Point(10, 7),\n",
    "    Point(11, 8),\n",
    "    Point(12, 12),\n",
    "])\n",
    "\n",
    "path3 = LineString([\n",
    "    Point(9, 10),\n",
    "    Point(10, 14),\n",
    "    Point(11, 12),\n",
    "    Point(12, 15),\n",
    "])"
   ]
  },
  {
   "cell_type": "code",
   "execution_count": 3,
   "metadata": {},
   "outputs": [],
   "source": [
    "gdf = gpd.GeoDataFrame([path1, path2, path3], columns=['geometry'])"
   ]
  },
  {
   "cell_type": "code",
   "execution_count": 4,
   "metadata": {},
   "outputs": [],
   "source": [
    "gdf['pathname'] = ['path1', 'path2', 'path3']"
   ]
  },
  {
   "cell_type": "code",
   "execution_count": 5,
   "metadata": {},
   "outputs": [
    {
     "data": {
      "text/html": [
       "<div>\n",
       "<style scoped>\n",
       "    .dataframe tbody tr th:only-of-type {\n",
       "        vertical-align: middle;\n",
       "    }\n",
       "\n",
       "    .dataframe tbody tr th {\n",
       "        vertical-align: top;\n",
       "    }\n",
       "\n",
       "    .dataframe thead th {\n",
       "        text-align: right;\n",
       "    }\n",
       "</style>\n",
       "<table border=\"1\" class=\"dataframe\">\n",
       "  <thead>\n",
       "    <tr style=\"text-align: right;\">\n",
       "      <th></th>\n",
       "      <th>geometry</th>\n",
       "      <th>pathname</th>\n",
       "    </tr>\n",
       "  </thead>\n",
       "  <tbody>\n",
       "    <tr>\n",
       "      <th>0</th>\n",
       "      <td>LINESTRING (0 0, 0 1, 1 1, 1 2, 3 3, 5 6)</td>\n",
       "      <td>path1</td>\n",
       "    </tr>\n",
       "    <tr>\n",
       "      <th>1</th>\n",
       "      <td>LINESTRING (5 3, 5 5, 9 5, 10 7, 11 8, 12 12)</td>\n",
       "      <td>path2</td>\n",
       "    </tr>\n",
       "    <tr>\n",
       "      <th>2</th>\n",
       "      <td>LINESTRING (9 10, 10 14, 11 12, 12 15)</td>\n",
       "      <td>path3</td>\n",
       "    </tr>\n",
       "  </tbody>\n",
       "</table>\n",
       "</div>"
      ],
      "text/plain": [
       "                                        geometry pathname\n",
       "0      LINESTRING (0 0, 0 1, 1 1, 1 2, 3 3, 5 6)    path1\n",
       "1  LINESTRING (5 3, 5 5, 9 5, 10 7, 11 8, 12 12)    path2\n",
       "2         LINESTRING (9 10, 10 14, 11 12, 12 15)    path3"
      ]
     },
     "execution_count": 5,
     "metadata": {},
     "output_type": "execute_result"
    }
   ],
   "source": [
    "gdf"
   ]
  },
  {
   "cell_type": "markdown",
   "metadata": {},
   "source": [
    "Here are the made up paths:"
   ]
  },
  {
   "cell_type": "code",
   "execution_count": 6,
   "metadata": {},
   "outputs": [
    {
     "data": {
      "image/png": "[encoded data removed]",
      "text/plain": [
       "<Figure size 432x288 with 1 Axes>"
      ]
     },
     "metadata": {
      "needs_background": "light"
     },
     "output_type": "display_data"
    }
   ],
   "source": [
    "gdf.plot();"
   ]
  },
  {
   "cell_type": "code",
   "execution_count": 7,
   "metadata": {},
   "outputs": [
    {
     "ename": "SyntaxError",
     "evalue": "invalid syntax (<ipython-input-7-9a622583f87c>, line 1)",
     "output_type": "error",
     "traceback": [
      "\u001b[1;36m  File \u001b[1;32m\"<ipython-input-7-9a622583f87c>\"\u001b[1;36m, line \u001b[1;32m1\u001b[0m\n\u001b[1;33m    We can calculate a buffer around any\u001b[0m\n\u001b[1;37m         ^\u001b[0m\n\u001b[1;31mSyntaxError\u001b[0m\u001b[1;31m:\u001b[0m invalid syntax\n"
     ]
    }
   ],
   "source": [
    "We can calculate a buffer around any "
   ]
  },
  {
   "cell_type": "code",
   "execution_count": null,
   "metadata": {},
   "outputs": [],
   "source": [
    "r  = 5  #buffer radius\n",
    "B = p.buffer(r)\n",
    "B"
   ]
  },
  {
   "cell_type": "markdown",
   "metadata": {},
   "source": [
    "Plot things on matplotlib to visualize what's going on.\n"
   ]
  },
  {
   "cell_type": "code",
   "execution_count": null,
   "metadata": {},
   "outputs": [],
   "source": [
    "x1,y1 = path1.xy\n",
    "x2,y2 = path2.xy\n",
    "x3,y3 = path3.xy\n",
    "xB,yB = B.exterior.xy\n",
    "\n",
    "plt.plot(xB,yB)\n",
    "plt.plot(x1,y1)\n",
    "plt.plot(x2,y2)\n",
    "plt.plot(x3,y3)\n",
    "plt.scatter(p.x,p.y)\n",
    "ax = plt.gca()\n",
    "ax.set_aspect(\"equal\")\n"
   ]
  },
  {
   "cell_type": "markdown",
   "metadata": {},
   "source": [
    "We can get just the linestrings in the buffer returned as a new dataframe"
   ]
  },
  {
   "cell_type": "code",
   "execution_count": null,
   "metadata": {},
   "outputs": [],
   "source": [
    "gdf.geometry.intersection(p.buffer(4))"
   ]
  },
  {
   "cell_type": "code",
   "execution_count": null,
   "metadata": {},
   "outputs": [],
   "source": [
    "plt.plot(xB,yB)\n",
    "plt.scatter(p.x,p.y)\n",
    "ax=plt.gca()\n",
    "gdf.geometry.intersection(p.buffer(r)).plot(ax=ax);"
   ]
  },
  {
   "cell_type": "markdown",
   "metadata": {},
   "source": [
    "Simple loop to find distances from point to lines in this buffer"
   ]
  },
  {
   "cell_type": "code",
   "execution_count": null,
   "metadata": {},
   "outputs": [],
   "source": [
    "for line in gdf.geometry.intersection(p.buffer(r)):\n",
    "    if not line.is_empty:\n",
    "        print(line.project(p))\n",
    "        "
   ]
  },
  {
   "cell_type": "markdown",
   "metadata": {},
   "source": [
    "This is obviously incomplete (we need code to loop through all the bikepaths) and then return the nearest distance but it would probably use these building blocks."
   ]
  },
  {
   "cell_type": "code",
   "execution_count": null,
   "metadata": {},
   "outputs": [],
   "source": []
  },
  {
   "cell_type": "markdown",
   "metadata": {},
   "source": [
    "## A less promising method\n",
    "\n",
    "Ignore what follows.  I abandoned this method after realizing that a bikepath is not just the vertices that define the line (so previous method better).  But I learned some tricks in my explorations, so I've kept the code in case they ever come in handy."
   ]
  },
  {
   "cell_type": "markdown",
   "metadata": {},
   "source": [
    "### From linestring back to points\n",
    "\n",
    "[This stackexchange answer](https://gis.stackexchange.com/questions/238533/how-do-i-extract-points-from-a-linestring-or-polygon-data-frame-and-make-a-dicti) shows how to convert from a linestring into a list of points lists."
   ]
  },
  {
   "cell_type": "code",
   "execution_count": null,
   "metadata": {},
   "outputs": [],
   "source": [
    "def linestring_to_points(feature, line):\n",
    "    return np.array(line.coords)\n",
    "\n",
    "gdf['points'] = gdf.apply(lambda line: linestring_to_points(line['pathname'],line['geometry']),axis=1)"
   ]
  },
  {
   "cell_type": "code",
   "execution_count": null,
   "metadata": {},
   "outputs": [],
   "source": [
    "gdf.geometry.intersection(p.buffer(4)).plot();"
   ]
  },
  {
   "cell_type": "code",
   "execution_count": null,
   "metadata": {},
   "outputs": [],
   "source": [
    "gdf.plot();"
   ]
  },
  {
   "cell_type": "markdown",
   "metadata": {},
   "source": [
    "After some further searching I found that I can use numpy concatenate to get all the points into a stacked numpy array."
   ]
  },
  {
   "cell_type": "code",
   "execution_count": null,
   "metadata": {},
   "outputs": [],
   "source": [
    "np.concatenate(gdf.points)"
   ]
  },
  {
   "cell_type": "markdown",
   "metadata": {},
   "source": [
    "We can turn these back into shapely points"
   ]
  },
  {
   "cell_type": "code",
   "execution_count": null,
   "metadata": {},
   "outputs": [],
   "source": [
    "gpd.GeoSeries(map(Point,np.concatenate(gdf.points)))"
   ]
  },
  {
   "cell_type": "markdown",
   "metadata": {},
   "source": [
    "We will want to create a new dataframe with these points but we need to label them correctly with their corresponding bike path name.  The numpy `repeat` function allows us to repeat the line name the correct number of times. "
   ]
  },
  {
   "cell_type": "code",
   "execution_count": null,
   "metadata": {},
   "outputs": [],
   "source": [
    "np.repeat(gdf.pathname.values, gdf.points.apply(len))"
   ]
  },
  {
   "cell_type": "markdown",
   "metadata": {},
   "source": [
    "So finally, let's create a dataframe that lists points and associated bike paths."
   ]
  },
  {
   "cell_type": "code",
   "execution_count": null,
   "metadata": {},
   "outputs": [],
   "source": [
    "pathpts = pd.DataFrame({ 'path': np.repeat(gdf.pathname.values, gdf.points.apply(len)),\n",
    "                      'pt': gpd.GeoSeries(map(Point,np.concatenate(gdf.points)))\n",
    "                   }  )\n",
    "pathpts"
   ]
  },
  {
   "cell_type": "code",
   "execution_count": null,
   "metadata": {},
   "outputs": [],
   "source": []
  }
 ],
 "metadata": {
  "kernelspec": {
   "display_name": "Python 3",
   "language": "python",
   "name": "python3"
  },
  "language_info": {
   "codemirror_mode": {
    "name": "ipython",
    "version": 3
   },
   "file_extension": ".py",
   "mimetype": "text/x-python",
   "name": "python",
   "nbconvert_exporter": "python",
   "pygments_lexer": "ipython3",
   "version": "3.7.3"
  }
 },
 "nbformat": 4,
 "nbformat_minor": 2
}
